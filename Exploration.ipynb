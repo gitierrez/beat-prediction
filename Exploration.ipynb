{
 "cells": [
  {
   "cell_type": "code",
   "execution_count": 1,
   "metadata": {},
   "outputs": [],
   "source": [
    "import tensorflow as tf\n",
    "import simpleaudio as sa\n",
    "from scipy.signal import resample"
   ]
  },
  {
   "cell_type": "code",
   "execution_count": 2,
   "metadata": {},
   "outputs": [],
   "source": [
    "file_path = 'data/audio/SMC_013.wav'\n",
    "\n",
    "audio = tf.io.read_file(file_path)\n",
    "audio, sample_rate = tf.audio.decode_wav(audio)"
   ]
  },
  {
   "cell_type": "code",
   "execution_count": 3,
   "metadata": {},
   "outputs": [],
   "source": [
    "def resample_signal(x, src_rate, tgt_rate):\n",
    "    new_total_samples = int(tgt_rate * len(x.numpy()) / src_rate.numpy())\n",
    "    return resample(x, new_total_samples)"
   ]
  },
  {
   "cell_type": "code",
   "execution_count": 4,
   "metadata": {},
   "outputs": [],
   "source": [
    "resampled_audio = resample_signal(audio, sample_rate, 11025)"
   ]
  },
  {
   "cell_type": "code",
   "execution_count": 12,
   "metadata": {},
   "outputs": [
    {
     "data": {
      "text/plain": [
       "<simpleaudio.shiny.PlayObject at 0x128d82d30>"
      ]
     },
     "execution_count": 12,
     "metadata": {},
     "output_type": "execute_result"
    }
   ],
   "source": [
    "sa.play_buffer(resampled_audio, 1, 4, 11025)\n",
    "sa.play_buffer(audio, 1, 4, 44100)"
   ]
  },
  {
   "cell_type": "code",
   "execution_count": 6,
   "metadata": {},
   "outputs": [
    {
     "name": "stdout",
     "output_type": "stream",
     "text": [
      "Model: \"sequential_1\"\n",
      "_________________________________________________________________\n",
      "Layer (type)                 Output Shape              Param #   \n",
      "=================================================================\n",
      "lstm_1 (LSTM)                (None, 256)               264192    \n",
      "_________________________________________________________________\n",
      "dense_1 (Dense)              (None, 44)                11308     \n",
      "=================================================================\n",
      "Total params: 275,500\n",
      "Trainable params: 275,500\n",
      "Non-trainable params: 0\n",
      "_________________________________________________________________\n"
     ]
    }
   ],
   "source": [
    "Lx = 110 #Lx = 11025\n",
    "Ly = 44 #Ly = 4410\n",
    "\n",
    "baseline = tf.keras.models.Sequential([\n",
    "    tf.keras.layers.LSTM(256, dropout=0.1, recurrent_dropout=0.1, input_shape=(Lx, 1)),\n",
    "    tf.keras.layers.Dense(Ly, activation='sigmoid')\n",
    "])\n",
    "\n",
    "baseline.summary()"
   ]
  },
  {
   "cell_type": "code",
   "execution_count": 7,
   "metadata": {},
   "outputs": [],
   "source": [
    "X = tf.random.normal((1024, Lx, 1))\n",
    "y = tf.random.uniform((1024, Ly), 0, 2, dtype=tf.int32)"
   ]
  },
  {
   "cell_type": "code",
   "execution_count": 9,
   "metadata": {},
   "outputs": [
    {
     "name": "stdout",
     "output_type": "stream",
     "text": [
      "Train on 1024 samples\n",
      "Epoch 1/2\n",
      "1024/1024 [==============================] - 14s 14ms/sample - loss: 0.6927\n",
      "Epoch 2/2\n",
      "1024/1024 [==============================] - 14s 14ms/sample - loss: 0.6924\n"
     ]
    },
    {
     "data": {
      "text/plain": [
       "<tensorflow.python.keras.callbacks.History at 0x12e811860>"
      ]
     },
     "execution_count": 9,
     "metadata": {},
     "output_type": "execute_result"
    }
   ],
   "source": [
    "baseline.compile(optimizer='rmsprop', loss='binary_crossentropy')\n",
    "baseline.fit(X, y, epochs=2, batch_size=32)"
   ]
  },
  {
   "cell_type": "code",
   "execution_count": 13,
   "metadata": {},
   "outputs": [],
   "source": [
    "preds = baseline.predict(X[0:1, :, :])"
   ]
  },
  {
   "cell_type": "code",
   "execution_count": 15,
   "metadata": {},
   "outputs": [],
   "source": [
    "beats = tf.where(tf.math.greater(preds, 0.5), tf.constant(1), tf.constant(0))"
   ]
  },
  {
   "cell_type": "code",
   "execution_count": 16,
   "metadata": {},
   "outputs": [
    {
     "data": {
      "text/plain": [
       "<tf.Tensor: shape=(1, 44), dtype=int32, numpy=\n",
       "array([[1, 0, 0, 0, 0, 0, 1, 1, 1, 0, 0, 1, 0, 1, 1, 0, 1, 1, 0, 0, 0, 1,\n",
       "        1, 0, 1, 1, 0, 1, 0, 0, 1, 1, 1, 1, 1, 0, 1, 1, 0, 0, 0, 1, 1, 0]],\n",
       "      dtype=int32)>"
      ]
     },
     "execution_count": 16,
     "metadata": {},
     "output_type": "execute_result"
    }
   ],
   "source": [
    "beats"
   ]
  },
  {
   "cell_type": "code",
   "execution_count": null,
   "metadata": {},
   "outputs": [],
   "source": [
    "# x = read_audio\n",
    "# y = read_tags\n",
    "def create_label_tensor(x, tags):\n",
    "    pass #return tensor with the same as x with 0/1s of the beats\n",
    "\n",
    "create_label_tensor(x, y)"
   ]
  }
 ],
 "metadata": {
  "kernelspec": {
   "display_name": "beat",
   "language": "python",
   "name": "beat"
  },
  "language_info": {
   "codemirror_mode": {
    "name": "ipython",
    "version": 3
   },
   "file_extension": ".py",
   "mimetype": "text/x-python",
   "name": "python",
   "nbconvert_exporter": "python",
   "pygments_lexer": "ipython3",
   "version": "3.6.10"
  }
 },
 "nbformat": 4,
 "nbformat_minor": 4
}
