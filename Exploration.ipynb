{
 "cells": [
  {
   "cell_type": "code",
   "execution_count": 1,
   "metadata": {},
   "outputs": [],
   "source": [
    "import tensorflow as tf\n",
    "import simpleaudio as sa\n",
    "from scipy.signal import resample\n",
    "import os\n",
    "import numpy as np\n",
    "import matplotlib.pyplot as plt"
   ]
  },
  {
   "cell_type": "code",
   "execution_count": 2,
   "metadata": {},
   "outputs": [],
   "source": [
    "file_path = 'data/audio/SMC_013.wav'\n",
    "\n",
    "audio = tf.io.read_file(file_path)\n",
    "audio, sample_rate = tf.audio.decode_wav(audio)"
   ]
  },
  {
   "cell_type": "code",
   "execution_count": 3,
   "metadata": {},
   "outputs": [],
   "source": [
    "def resample_signal(x, src_rate, tgt_rate):\n",
    "    new_total_samples = int(tgt_rate * len(x.numpy()) / src_rate.numpy())\n",
    "    return resample(x, new_total_samples)"
   ]
  },
  {
   "cell_type": "code",
   "execution_count": 4,
   "metadata": {},
   "outputs": [],
   "source": [
    "resampled_audio = resample_signal(audio, sample_rate, 11025)"
   ]
  },
  {
   "cell_type": "code",
   "execution_count": 6,
   "metadata": {},
   "outputs": [
    {
     "data": {
      "text/plain": [
       "<simpleaudio.shiny.PlayObject at 0x138a892e8>"
      ]
     },
     "execution_count": 6,
     "metadata": {},
     "output_type": "execute_result"
    }
   ],
   "source": [
    "sa.play_buffer(resampled_audio, 1, 4, 11025)\n",
    "sa.play_buffer(audio, 1, 4, 44100)"
   ]
  },
  {
   "cell_type": "code",
   "execution_count": 7,
   "metadata": {},
   "outputs": [
    {
     "name": "stdout",
     "output_type": "stream",
     "text": [
      "Model: \"sequential\"\n",
      "_________________________________________________________________\n",
      "Layer (type)                 Output Shape              Param #   \n",
      "=================================================================\n",
      "lstm (LSTM)                  (None, 256)               264192    \n",
      "_________________________________________________________________\n",
      "dense (Dense)                (None, 44)                11308     \n",
      "=================================================================\n",
      "Total params: 275,500\n",
      "Trainable params: 275,500\n",
      "Non-trainable params: 0\n",
      "_________________________________________________________________\n"
     ]
    }
   ],
   "source": [
    "Lx = 110 #Lx = 11025\n",
    "Ly = 44 #Ly = 4410\n",
    "\n",
    "baseline = tf.keras.models.Sequential([\n",
    "    tf.keras.layers.LSTM(256, dropout=0.1, recurrent_dropout=0.1, input_shape=(Lx, 1)),\n",
    "    tf.keras.layers.Dense(Ly, activation='sigmoid')\n",
    "])\n",
    "\n",
    "baseline.summary()"
   ]
  },
  {
   "cell_type": "code",
   "execution_count": 8,
   "metadata": {},
   "outputs": [],
   "source": [
    "X = tf.random.normal((1024, Lx, 1))\n",
    "y = tf.random.uniform((1024, Ly), 0, 2, dtype=tf.int32)"
   ]
  },
  {
   "cell_type": "code",
   "execution_count": 9,
   "metadata": {},
   "outputs": [
    {
     "name": "stdout",
     "output_type": "stream",
     "text": [
      "Train on 1024 samples\n",
      "Epoch 1/2\n",
      "1024/1024 [==============================] - 12s 12ms/sample - loss: 0.6935\n",
      "Epoch 2/2\n",
      "1024/1024 [==============================] - 11s 11ms/sample - loss: 0.6931\n"
     ]
    },
    {
     "data": {
      "text/plain": [
       "<tensorflow.python.keras.callbacks.History at 0x13e707748>"
      ]
     },
     "execution_count": 9,
     "metadata": {},
     "output_type": "execute_result"
    }
   ],
   "source": [
    "baseline.compile(optimizer='rmsprop', loss='binary_crossentropy')\n",
    "baseline.fit(X, y, epochs=2, batch_size=32)"
   ]
  },
  {
   "cell_type": "code",
   "execution_count": 10,
   "metadata": {},
   "outputs": [],
   "source": [
    "preds = baseline.predict(X[0:1, :, :])"
   ]
  },
  {
   "cell_type": "code",
   "execution_count": 11,
   "metadata": {},
   "outputs": [],
   "source": [
    "beats = tf.where(tf.math.greater(preds, 0.5), tf.constant(1), tf.constant(0))"
   ]
  },
  {
   "cell_type": "code",
   "execution_count": 12,
   "metadata": {},
   "outputs": [
    {
     "data": {
      "text/plain": [
       "<tf.Tensor: shape=(1, 44), dtype=int32, numpy=\n",
       "array([[0, 0, 1, 1, 1, 1, 1, 1, 1, 1, 1, 0, 0, 1, 0, 0, 0, 0, 0, 0, 0, 1,\n",
       "        1, 1, 0, 0, 0, 0, 1, 1, 0, 0, 1, 1, 0, 1, 0, 1, 1, 0, 0, 0, 1, 0]],\n",
       "      dtype=int32)>"
      ]
     },
     "execution_count": 12,
     "metadata": {},
     "output_type": "execute_result"
    }
   ],
   "source": [
    "beats"
   ]
  },
  {
   "cell_type": "code",
   "execution_count": 5,
   "metadata": {},
   "outputs": [],
   "source": [
    "tag = file_path.replace('audio','annotations').split('/')\n",
    "file_folder, tag = tag[0] + '/' + tag[1] + '/', tag[2][0:7]"
   ]
  },
  {
   "cell_type": "code",
   "execution_count": 9,
   "metadata": {},
   "outputs": [
    {
     "data": {
      "text/plain": [
       "['SMC_013_1_2_1_a.txt']"
      ]
     },
     "execution_count": 9,
     "metadata": {},
     "output_type": "execute_result"
    }
   ],
   "source": [
    "files"
   ]
  },
  {
   "cell_type": "code",
   "execution_count": 8,
   "metadata": {},
   "outputs": [],
   "source": [
    "files = [i for i in os.listdir(file_folder) if os.path.isfile(os.path.join(file_folder,i)) and \\\n",
    "         tag in i]"
   ]
  },
  {
   "cell_type": "code",
   "execution_count": 10,
   "metadata": {},
   "outputs": [
    {
     "data": {
      "text/plain": [
       "'data/annotations/SMC_013_1_2_1_a.txt'"
      ]
     },
     "execution_count": 10,
     "metadata": {},
     "output_type": "execute_result"
    }
   ],
   "source": [
    "if len(files) == 1:\n",
    "    tag_file = file_folder + files[0]\n",
    "else:\n",
    "    tag_file = None\n",
    "tag_file"
   ]
  },
  {
   "cell_type": "code",
   "execution_count": 11,
   "metadata": {},
   "outputs": [],
   "source": [
    "tags = [float(line.rstrip('\\n')) for line in open(tag_file)]"
   ]
  },
  {
   "cell_type": "code",
   "execution_count": 35,
   "metadata": {},
   "outputs": [],
   "source": [
    "# x = read_audio\n",
    "# y = read_tags\n",
    "def create_label_tensor(x, tags):\n",
    "    positions = [int(11025*tag) for tag in tags]\n",
    "    values = [1 for i in range(len(positions))]\n",
    "    beat_tag = np.zeros(x.size)\n",
    "    beat_tag.flat[positions] = values\n",
    "    return beat_tag \n",
    "\n",
    "beat_tag = create_label_tensor(resampled_audio, tags)"
   ]
  },
  {
   "cell_type": "code",
   "execution_count": 55,
   "metadata": {},
   "outputs": [],
   "source": [
    "def plot_beats(audio, beats):\n",
    "    beat_tag = list(beats)\n",
    "    xcoords = [i for i, num in enumerate(beat_tag) if num == 1] \n",
    "    plt.plot(audio, alpha = 0.5)\n",
    "    for xc in xcoords:\n",
    "        plt.axvline(x=xc, c='r', ls='--', lw=1)\n",
    "    plt.show()"
   ]
  },
  {
   "cell_type": "code",
   "execution_count": 61,
   "metadata": {},
   "outputs": [
    {
     "data": {
      "image/png": "[encoded data removed]",
      "text/plain": [
       "<Figure size 432x288 with 1 Axes>"
      ]
     },
     "metadata": {
      "needs_background": "light"
     },
     "output_type": "display_data"
    }
   ],
   "source": [
    "plot_beats(resampled_audio[:60000], beat_tag[:60000])"
   ]
  },
  {
   "cell_type": "code",
   "execution_count": 62,
   "metadata": {},
   "outputs": [
    {
     "data": {
      "image/png": "[encoded data removed]",
      "text/plain": [
       "<Figure size 432x288 with 1 Axes>"
      ]
     },
     "metadata": {
      "needs_background": "light"
     },
     "output_type": "display_data"
    }
   ],
   "source": [
    "plot_beats(resampled_audio[80000:200000], beat_tag[80000:200000])"
   ]
  }
 ],
 "metadata": {
  "kernelspec": {
   "display_name": "beat",
   "language": "python",
   "name": "beat"
  },
  "language_info": {
   "codemirror_mode": {
    "name": "ipython",
    "version": 3
   },
   "file_extension": ".py",
   "mimetype": "text/x-python",
   "name": "python",
   "nbconvert_exporter": "python",
   "pygments_lexer": "ipython3",
   "version": "3.6.10"
  }
 },
 "nbformat": 4,
 "nbformat_minor": 4
}
